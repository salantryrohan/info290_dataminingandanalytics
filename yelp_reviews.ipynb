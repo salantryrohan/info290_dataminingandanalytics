{
 "metadata": {
  "name": "yelp_reviews"
 },
 "nbformat": 3,
 "nbformat_minor": 0,
 "worksheets": [
  {
   "cells": [
    {
     "cell_type": "heading",
     "level": 3,
     "metadata": {},
     "source": [
      "IMPORTS"
     ]
    },
    {
     "cell_type": "code",
     "collapsed": false,
     "input": [
      "import os\n",
      "import json\n",
      "from itertools import islice\n",
      "import re\n",
      "from collections import Counter\n",
      "import pandas as pd\n",
      "import nltk\n",
      "\n",
      "print os.getcwd()"
     ],
     "language": "python",
     "metadata": {},
     "outputs": [
      {
       "output_type": "stream",
       "stream": "stdout",
       "text": [
        "/Users/ajrenold/Dropbox/iSchool/2013Spring/DataMining/yelp_project\n"
       ]
      }
     ],
     "prompt_number": 1
    },
    {
     "cell_type": "heading",
     "level": 2,
     "metadata": {},
     "source": [
      "Get Academic Dataset Files"
     ]
    },
    {
     "cell_type": "code",
     "collapsed": false,
     "input": [
      "yelp_dir = os.getcwd() + \"/yelp_phoenix_academic_dataset_2\"\n",
      "for dirpath, dirname, filenames in os.walk(yelp_dir):\n",
      "    files = filenames\n",
      "data_files = [ f for f in files if f[-5:] == '.json' ]\n",
      "        \n",
      "print data_files\n",
      "    "
     ],
     "language": "python",
     "metadata": {},
     "outputs": [
      {
       "output_type": "stream",
       "stream": "stdout",
       "text": [
        "['yelp_academic_dataset_business.json', 'yelp_academic_dataset_checkin.json', 'yelp_academic_dataset_review.json', 'yelp_academic_dataset_user.json']\n"
       ]
      }
     ],
     "prompt_number": 2
    },
    {
     "cell_type": "heading",
     "level": 3,
     "metadata": {},
     "source": [
      "Load Stop_words file"
     ]
    },
    {
     "cell_type": "code",
     "collapsed": false,
     "input": [
      "stop_words = os.getcwd() + '/stop-words-english4.txt'\n",
      "f = open(stop_words,'r')\n",
      "\n",
      "stops = {}\n",
      "\n",
      "for line in islice(f,None):\n",
      "    word = line.lower().strip()\n",
      "    if word not in stops:\n",
      "        stops[word] = True"
     ],
     "language": "python",
     "metadata": {},
     "outputs": [],
     "prompt_number": 3
    },
    {
     "cell_type": "heading",
     "level": 3,
     "metadata": {},
     "source": [
      "Create Review DF"
     ]
    },
    {
     "cell_type": "code",
     "collapsed": false,
     "input": [
      "review_json = open(yelp_dir + \"/\" + data_files[2])\n",
      "reviews_for_df = [ json.loads(line) for line in islice(review_json,None) ]\n",
      "review_df = pd.DataFrame(reviews_for_df)"
     ],
     "language": "python",
     "metadata": {},
     "outputs": [],
     "prompt_number": 4
    },
    {
     "cell_type": "code",
     "collapsed": false,
     "input": [
      "review_df[:1]"
     ],
     "language": "python",
     "metadata": {},
     "outputs": [
      {
       "html": [
        "<div style=\"max-height:1000px;max-width:1500px;overflow:auto;\">\n",
        "<table border=\"1\" class=\"dataframe\">\n",
        "  <thead>\n",
        "    <tr style=\"text-align: right;\">\n",
        "      <th></th>\n",
        "      <th>business_id</th>\n",
        "      <th>date</th>\n",
        "      <th>review_id</th>\n",
        "      <th>stars</th>\n",
        "      <th>text</th>\n",
        "      <th>type</th>\n",
        "      <th>user_id</th>\n",
        "      <th>votes</th>\n",
        "    </tr>\n",
        "  </thead>\n",
        "  <tbody>\n",
        "    <tr>\n",
        "      <th>0</th>\n",
        "      <td> 9yKzy9PApeiPPOUJEtnvkg</td>\n",
        "      <td> 2011-01-26</td>\n",
        "      <td> fWKvX83p0-ka4JS3dc6E5A</td>\n",
        "      <td> 5</td>\n",
        "      <td> My wife took me here on my birthday for breakf...</td>\n",
        "      <td> review</td>\n",
        "      <td> rLtl8ZkDX5vH5nAx9C3q5Q</td>\n",
        "      <td> {u'funny': 0, u'useful': 5, u'cool': 2}</td>\n",
        "    </tr>\n",
        "  </tbody>\n",
        "</table>\n",
        "</div>"
       ],
       "output_type": "pyout",
       "prompt_number": 5,
       "text": [
        "              business_id        date               review_id  stars  \\\n",
        "0  9yKzy9PApeiPPOUJEtnvkg  2011-01-26  fWKvX83p0-ka4JS3dc6E5A      5   \n",
        "\n",
        "                                                text    type  \\\n",
        "0  My wife took me here on my birthday for breakf...  review   \n",
        "\n",
        "                  user_id                                    votes  \n",
        "0  rLtl8ZkDX5vH5nAx9C3q5Q  {u'funny': 0, u'useful': 5, u'cool': 2}  "
       ]
      }
     ],
     "prompt_number": 5
    },
    {
     "cell_type": "code",
     "collapsed": false,
     "input": [
      "text = review_df[['text','votes','stars']]"
     ],
     "language": "python",
     "metadata": {},
     "outputs": [],
     "prompt_number": 6
    },
    {
     "cell_type": "code",
     "collapsed": false,
     "input": [
      "text[:1]"
     ],
     "language": "python",
     "metadata": {},
     "outputs": [
      {
       "html": [
        "<div style=\"max-height:1000px;max-width:1500px;overflow:auto;\">\n",
        "<table border=\"1\" class=\"dataframe\">\n",
        "  <thead>\n",
        "    <tr style=\"text-align: right;\">\n",
        "      <th></th>\n",
        "      <th>text</th>\n",
        "      <th>votes</th>\n",
        "      <th>stars</th>\n",
        "    </tr>\n",
        "  </thead>\n",
        "  <tbody>\n",
        "    <tr>\n",
        "      <th>0</th>\n",
        "      <td> My wife took me here on my birthday for breakf...</td>\n",
        "      <td> {u'funny': 0, u'useful': 5, u'cool': 2}</td>\n",
        "      <td> 5</td>\n",
        "    </tr>\n",
        "  </tbody>\n",
        "</table>\n",
        "</div>"
       ],
       "output_type": "pyout",
       "prompt_number": 7,
       "text": [
        "                                                text  \\\n",
        "0  My wife took me here on my birthday for breakf...   \n",
        "\n",
        "                                     votes  stars  \n",
        "0  {u'funny': 0, u'useful': 5, u'cool': 2}      5  "
       ]
      }
     ],
     "prompt_number": 7
    },
    {
     "cell_type": "code",
     "collapsed": false,
     "input": [
      "text['useful'] = text['votes'].apply(lambda x: x['useful'])"
     ],
     "language": "python",
     "metadata": {},
     "outputs": [],
     "prompt_number": 8
    },
    {
     "cell_type": "code",
     "collapsed": false,
     "input": [
      "text['len'] = text['text'].apply(lambda x: len(x.split(\" \")))"
     ],
     "language": "python",
     "metadata": {},
     "outputs": [],
     "prompt_number": 9
    },
    {
     "cell_type": "code",
     "collapsed": false,
     "input": [
      "text[:1]"
     ],
     "language": "python",
     "metadata": {},
     "outputs": [
      {
       "html": [
        "<div style=\"max-height:1000px;max-width:1500px;overflow:auto;\">\n",
        "<table border=\"1\" class=\"dataframe\">\n",
        "  <thead>\n",
        "    <tr style=\"text-align: right;\">\n",
        "      <th></th>\n",
        "      <th>text</th>\n",
        "      <th>votes</th>\n",
        "      <th>stars</th>\n",
        "      <th>useful</th>\n",
        "      <th>len</th>\n",
        "    </tr>\n",
        "  </thead>\n",
        "  <tbody>\n",
        "    <tr>\n",
        "      <th>0</th>\n",
        "      <td> My wife took me here on my birthday for breakf...</td>\n",
        "      <td> {u'funny': 0, u'useful': 5, u'cool': 2}</td>\n",
        "      <td> 5</td>\n",
        "      <td> 5</td>\n",
        "      <td> 160</td>\n",
        "    </tr>\n",
        "  </tbody>\n",
        "</table>\n",
        "</div>"
       ],
       "output_type": "pyout",
       "prompt_number": 10,
       "text": [
        "                                                text  \\\n",
        "0  My wife took me here on my birthday for breakf...   \n",
        "\n",
        "                                     votes  stars  useful  len  \n",
        "0  {u'funny': 0, u'useful': 5, u'cool': 2}      5       5  160  "
       ]
      }
     ],
     "prompt_number": 10
    },
    {
     "cell_type": "code",
     "collapsed": false,
     "input": [
      "cond = text['useful'] > 0\n",
      "subset_a = text[cond].dropna()\n",
      "subset_b = text[~cond].dropna()\n",
      "plt.scatter(subset_a['len'], subset_a['useful'], s=20, c='blue', label='useful > 0')\n",
      "plt.scatter(subset_b['len'], subset_b['useful'], s=20, c='red', label='not useful') \n",
      "plt.legend()"
     ],
     "language": "python",
     "metadata": {},
     "outputs": [
      {
       "output_type": "pyout",
       "prompt_number": 11,
       "text": [
        "<matplotlib.legend.Legend at 0x11afe22d0>"
       ]
      },
      {
       "output_type": "display_data",
       "png": "[encoded data removed]"
      }
     ],
     "prompt_number": 11
    },
    {
     "cell_type": "code",
     "collapsed": false,
     "input": [
      "text['len'].corr(text['useful'])"
     ],
     "language": "python",
     "metadata": {},
     "outputs": [
      {
       "output_type": "pyout",
       "prompt_number": 12,
       "text": [
        "0.29842756558835093"
       ]
      }
     ],
     "prompt_number": 12
    },
    {
     "cell_type": "code",
     "collapsed": false,
     "input": [
      "text.corr()"
     ],
     "language": "python",
     "metadata": {},
     "outputs": [
      {
       "html": [
        "<div style=\"max-height:1000px;max-width:1500px;overflow:auto;\">\n",
        "<table border=\"1\" class=\"dataframe\">\n",
        "  <thead>\n",
        "    <tr style=\"text-align: right;\">\n",
        "      <th></th>\n",
        "      <th>stars</th>\n",
        "      <th>useful</th>\n",
        "      <th>len</th>\n",
        "    </tr>\n",
        "  </thead>\n",
        "  <tbody>\n",
        "    <tr>\n",
        "      <th>stars</th>\n",
        "      <td> 1.000000</td>\n",
        "      <td>-0.032726</td>\n",
        "      <td>-0.136726</td>\n",
        "    </tr>\n",
        "    <tr>\n",
        "      <th>useful</th>\n",
        "      <td>-0.032726</td>\n",
        "      <td> 1.000000</td>\n",
        "      <td> 0.298428</td>\n",
        "    </tr>\n",
        "    <tr>\n",
        "      <th>len</th>\n",
        "      <td>-0.136726</td>\n",
        "      <td> 0.298428</td>\n",
        "      <td> 1.000000</td>\n",
        "    </tr>\n",
        "  </tbody>\n",
        "</table>\n",
        "</div>"
       ],
       "output_type": "pyout",
       "prompt_number": 13,
       "text": [
        "           stars    useful       len\n",
        "stars   1.000000 -0.032726 -0.136726\n",
        "useful -0.032726  1.000000  0.298428\n",
        "len    -0.136726  0.298428  1.000000"
       ]
      }
     ],
     "prompt_number": 13
    },
    {
     "cell_type": "code",
     "collapsed": false,
     "input": [
      "short_text = text[text['len'] <= 150]\n",
      "short_text['len'].corr(short_text['useful'])"
     ],
     "language": "python",
     "metadata": {},
     "outputs": [
      {
       "output_type": "pyout",
       "prompt_number": 30,
       "text": [
        "0.19325744965570177"
       ]
      }
     ],
     "prompt_number": 30
    },
    {
     "cell_type": "code",
     "collapsed": false,
     "input": [
      "long_text = text[text['len'] > 300]\n",
      "long_text['len'].corr(long_text['useful'])"
     ],
     "language": "python",
     "metadata": {},
     "outputs": [
      {
       "output_type": "pyout",
       "prompt_number": 27,
       "text": [
        "0.13453153935692874"
       ]
      }
     ],
     "prompt_number": 27
    },
    {
     "cell_type": "code",
     "collapsed": false,
     "input": [
      "review_df.describe()"
     ],
     "language": "python",
     "metadata": {},
     "outputs": [
      {
       "html": [
        "<div style=\"max-height:1000px;max-width:1500px;overflow:auto;\">\n",
        "<table border=\"1\" class=\"dataframe\">\n",
        "  <thead>\n",
        "    <tr style=\"text-align: right;\">\n",
        "      <th></th>\n",
        "      <th>stars</th>\n",
        "    </tr>\n",
        "  </thead>\n",
        "  <tbody>\n",
        "    <tr>\n",
        "      <th>count</th>\n",
        "      <td> 229907.000000</td>\n",
        "    </tr>\n",
        "    <tr>\n",
        "      <th>mean</th>\n",
        "      <td>      3.766723</td>\n",
        "    </tr>\n",
        "    <tr>\n",
        "      <th>std</th>\n",
        "      <td>      1.217010</td>\n",
        "    </tr>\n",
        "    <tr>\n",
        "      <th>min</th>\n",
        "      <td>      1.000000</td>\n",
        "    </tr>\n",
        "    <tr>\n",
        "      <th>25%</th>\n",
        "      <td>      3.000000</td>\n",
        "    </tr>\n",
        "    <tr>\n",
        "      <th>50%</th>\n",
        "      <td>      4.000000</td>\n",
        "    </tr>\n",
        "    <tr>\n",
        "      <th>75%</th>\n",
        "      <td>      5.000000</td>\n",
        "    </tr>\n",
        "    <tr>\n",
        "      <th>max</th>\n",
        "      <td>      5.000000</td>\n",
        "    </tr>\n",
        "  </tbody>\n",
        "</table>\n",
        "</div>"
       ],
       "output_type": "pyout",
       "prompt_number": 6,
       "text": [
        "               stars\n",
        "count  229907.000000\n",
        "mean        3.766723\n",
        "std         1.217010\n",
        "min         1.000000\n",
        "25%         3.000000\n",
        "50%         4.000000\n",
        "75%         5.000000\n",
        "max         5.000000"
       ]
      }
     ],
     "prompt_number": 6
    },
    {
     "cell_type": "heading",
     "level": 3,
     "metadata": {},
     "source": [
      "Merge Review DF with Business and Users"
     ]
    },
    {
     "cell_type": "code",
     "collapsed": false,
     "input": [
      "business_json = open(yelp_dir + \"/\" + data_files[0])\n",
      "business_for_df = [ json.loads(line) for line in islice(business_json,None) ]\n",
      "business_df = pd.DataFrame(business_for_df)"
     ],
     "language": "python",
     "metadata": {},
     "outputs": [],
     "prompt_number": 252
    },
    {
     "cell_type": "code",
     "collapsed": false,
     "input": [
      "business_df"
     ],
     "language": "python",
     "metadata": {},
     "outputs": [
      {
       "output_type": "pyout",
       "prompt_number": 244,
       "text": [
        "<class 'pandas.core.frame.DataFrame'>\n",
        "Int64Index: 11537 entries, 0 to 11536\n",
        "Data columns:\n",
        "business_id      11537  non-null values\n",
        "categories       11537  non-null values\n",
        "city             11537  non-null values\n",
        "full_address     11537  non-null values\n",
        "latitude         11537  non-null values\n",
        "longitude        11537  non-null values\n",
        "name             11537  non-null values\n",
        "neighborhoods    11537  non-null values\n",
        "open             11537  non-null values\n",
        "review_count     11537  non-null values\n",
        "stars            11537  non-null values\n",
        "state            11537  non-null values\n",
        "type             11537  non-null values\n",
        "dtypes: bool(1), float64(3), int64(1), object(8)"
       ]
      }
     ],
     "prompt_number": 244
    },
    {
     "cell_type": "code",
     "collapsed": false,
     "input": [
      "users_json = open(yelp_dir + \"/\" + data_files[3])\n",
      "users_for_df = [ json.loads(line) for line in islice(users_json,None) ]\n",
      "users_df = pd.DataFrame(users_for_df)"
     ],
     "language": "python",
     "metadata": {},
     "outputs": [],
     "prompt_number": 248
    },
    {
     "cell_type": "code",
     "collapsed": false,
     "input": [
      "users_df"
     ],
     "language": "python",
     "metadata": {},
     "outputs": [
      {
       "output_type": "pyout",
       "prompt_number": 245,
       "text": [
        "<class 'pandas.core.frame.DataFrame'>\n",
        "Int64Index: 43873 entries, 0 to 43872\n",
        "Data columns:\n",
        "average_stars    43873  non-null values\n",
        "name             43873  non-null values\n",
        "review_count     43873  non-null values\n",
        "type             43873  non-null values\n",
        "user_id          43873  non-null values\n",
        "votes            43873  non-null values\n",
        "dtypes: float64(1), int64(1), object(4)"
       ]
      }
     ],
     "prompt_number": 245
    },
    {
     "cell_type": "code",
     "collapsed": false,
     "input": [
      "review_df = pd.merge(review_df, business_df, on='business_id')"
     ],
     "language": "python",
     "metadata": {},
     "outputs": [],
     "prompt_number": 253
    },
    {
     "cell_type": "code",
     "collapsed": false,
     "input": [
      "review_df = pd.merge(review_df, users_df, on='user_id')"
     ],
     "language": "python",
     "metadata": {},
     "outputs": [],
     "prompt_number": 242
    },
    {
     "cell_type": "code",
     "collapsed": false,
     "input": [
      "review_df"
     ],
     "language": "python",
     "metadata": {},
     "outputs": [
      {
       "output_type": "pyout",
       "prompt_number": 254,
       "text": [
        "<class 'pandas.core.frame.DataFrame'>\n",
        "Int64Index: 229907 entries, 0 to 229906\n",
        "Data columns:\n",
        "business_id      229907  non-null values\n",
        "date             229907  non-null values\n",
        "review_id        229907  non-null values\n",
        "stars_x          229907  non-null values\n",
        "text             229907  non-null values\n",
        "type_x           229907  non-null values\n",
        "user_id          229907  non-null values\n",
        "votes            229907  non-null values\n",
        "categories       229907  non-null values\n",
        "city             229907  non-null values\n",
        "full_address     229907  non-null values\n",
        "latitude         229907  non-null values\n",
        "longitude        229907  non-null values\n",
        "name             229907  non-null values\n",
        "neighborhoods    229907  non-null values\n",
        "open             229907  non-null values\n",
        "review_count     229907  non-null values\n",
        "stars_y          229907  non-null values\n",
        "state            229907  non-null values\n",
        "type_y           229907  non-null values\n",
        "dtypes: bool(1), float64(3), int64(2), object(14)"
       ]
      }
     ],
     "prompt_number": 254
    },
    {
     "cell_type": "raw",
     "metadata": {},
     "source": [
      "Ideas:\n",
      "1. Find Best stop word method\n",
      "2. Take into account punctuation\n",
      "3. Take into account prices in reviews (eg $14.95 = $**.** for any number)\n",
      "4. n-gram v. bi-gram"
     ]
    },
    {
     "cell_type": "code",
     "collapsed": false,
     "input": [
      "index = Counter()\n",
      "prices = []\n",
      "\n",
      "#nltk.word_tokenize(raw)\n",
      "\n",
      "for row in islice(review_df.iterrows(),None):\n",
      "    for word in re.sub('\\W',\" \",row[1]['text']).split(' '):\n",
      "        if word != \"\" and word != \" \":\n",
      "            if word.lower() not in stops:\n",
      "                if '$' in word:\n",
      "                    prices.append(word)\n",
      "                    index['price_mention'] += 1\n",
      "                else:\n",
      "                    index[word.lower()] += 1\n",
      "            "
     ],
     "language": "python",
     "metadata": {},
     "outputs": [],
     "prompt_number": 101
    },
    {
     "cell_type": "code",
     "collapsed": false,
     "input": [
      "print len(index.keys())"
     ],
     "language": "python",
     "metadata": {},
     "outputs": [
      {
       "output_type": "stream",
       "stream": "stdout",
       "text": [
        "116214\n"
       ]
      }
     ],
     "prompt_number": 12
    },
    {
     "cell_type": "heading",
     "level": 4,
     "metadata": {},
     "source": [
      "tokenize any price using a $ (regex example)"
     ]
    },
    {
     "cell_type": "code",
     "collapsed": false,
     "input": [
      "print index['price_mention']"
     ],
     "language": "python",
     "metadata": {},
     "outputs": [
      {
       "output_type": "stream",
       "stream": "stdout",
       "text": [
        "0\n"
       ]
      }
     ],
     "prompt_number": 13
    },
    {
     "cell_type": "code",
     "collapsed": false,
     "input": [
      "print prices[0:10]\n",
      "print len(prices)\n",
      "\n",
      "regs = ['$$' for p in prices if re.search('^\\$?', p)]\n",
      "print regs[0:10]\n",
      "print len(regs)\n"
     ],
     "language": "python",
     "metadata": {},
     "outputs": [
      {
       "output_type": "stream",
       "stream": "stdout",
       "text": [
        "[]\n",
        "0\n",
        "[]\n",
        "0\n"
       ]
      }
     ],
     "prompt_number": 7
    },
    {
     "cell_type": "heading",
     "level": 4,
     "metadata": {},
     "source": [
      "regex to find variations of the word 'love'"
     ]
    },
    {
     "cell_type": "code",
     "collapsed": false,
     "input": [
      "loves = [ word for word in index.keys() if re.search('^l+o+v+e+$', word) or re.search('^l+u+v+$',word) or re.search('^l+o+v+$',word) ]\n",
      "print loves[:]\n",
      "print len(loves)"
     ],
     "language": "python",
     "metadata": {},
     "outputs": [
      {
       "output_type": "stream",
       "stream": "stdout",
       "text": [
        "[u'looooooooooooove', u'lovvvve', u'loveeee', u'looooovvvvvveeee', u'looooooove', u'looove', u'loooooovvvveeee', u'loveeeeeeeeee', u'looooooooove', u'looooooooooooooooooooove', u'loooooooooooooooooooooooooooove', u'loooooooooooove', u'loooove', u'loooovvveeeee', u'loooovvveee', u'looooove', u'loveeeeeeeeeeeeee', u'loooooooooove', u'luuuuv', u'lovve', u'looooveee', u'loveeeee', u'loveeeeee', u'looooooooovvvvvvvvveeeeee', u'loooveee', u'looooovvvveeeeee', u'looooooooooove', u'love', u'loooooooooooovvvvvveeeeee', u'looovee', u'luv', u'looooveeeeeeee', u'looooovveeee', u'loove', u'lovvvvve', u'looooovvveee', u'loooooooooooooove', u'lov', u'loooooooove', u'loooooove', u'loooveeee', u'loooooooooooooovvvve', u'lovee', u'loveee']\n",
        "44\n"
       ]
      }
     ],
     "prompt_number": 8
    },
    {
     "cell_type": "heading",
     "level": 4,
     "metadata": {},
     "source": [
      "word_var(word) takes any word and makes the regex search pattern"
     ]
    },
    {
     "cell_type": "code",
     "collapsed": false,
     "input": [
      "def word_var(word):\n",
      "    return str('^' + \"\".join([ l + \"+\" for l in word ]) + \"$\")"
     ],
     "language": "python",
     "metadata": {},
     "outputs": [],
     "prompt_number": 103
    },
    {
     "cell_type": "code",
     "collapsed": false,
     "input": [
      "pattern = word_var(\"cool\")\n",
      "amazing = [ word for word in index.keys() if re.search(pattern,word) ]\n",
      "print amazing\n",
      "print len(amazing)"
     ],
     "language": "python",
     "metadata": {},
     "outputs": [
      {
       "output_type": "stream",
       "stream": "stdout",
       "text": [
        "[u'cooool', u'cool', u'coooool']\n",
        "3\n"
       ]
      }
     ],
     "prompt_number": 104
    },
    {
     "cell_type": "code",
     "collapsed": false,
     "input": [
      "pattern = word_var(\"slow\")\n",
      "slow = [ word for word in index.keys() if re.search(pattern, word) ]\n",
      "print slow\n",
      "print len(slow)"
     ],
     "language": "python",
     "metadata": {},
     "outputs": [
      {
       "output_type": "stream",
       "stream": "stdout",
       "text": [
        "[u'slooowww', u'slllloooww', u'ssllooww', u'slooooooooooow', u'slllllow', u'slllllllow', u'sssllllooowww', u'sloooowww', u'sllllloooowww', u'slooooowwwwwww', u'sloooow', u'sllloooooww', u'slowwww', u'sloooooooooowwwww', u'slllllooooowwwwww', u'sloowwwww', u'sllloooowwww', u'sllloooooow', u'slooooooww', u'slow', u'sllloooow', u'slooowwww', u'slooooow', u'slllloooooowwww', u'sloooowwww', u'slowwwwwwwwwwwwwwww', u'slowww', u'slllllllllllllllllllllllllloooooooooooooowwwwwww', u'slooow', u'sloooooooooooooooooooow', u'sloowww', u'ssssslllllooooooowwww', u'sloooooooooooowww', u'sloooooow', u'sloooowwwww', u'slowwwww', u'sloooooooooow', u'slooooooooow', u'slowwwwww', u'slllllloooooooooooooowwww', u'slooooooooooooow', u'slooooowwwww', u'slooooooow', u'sloooooooow']\n",
        "44\n"
       ]
      }
     ],
     "prompt_number": 11
    },
    {
     "cell_type": "code",
     "collapsed": false,
     "input": [
      "word = 'a9.'\n",
      "print re.sub('[^A-Za-z]+',\"\",word)"
     ],
     "language": "python",
     "metadata": {},
     "outputs": [
      {
       "output_type": "stream",
       "stream": "stdout",
       "text": [
        "a\n"
       ]
      }
     ],
     "prompt_number": 181
    },
    {
     "cell_type": "code",
     "collapsed": false,
     "input": [
      "multiples = []\n",
      "word_corpus = index.keys()\n",
      "word_corpus = [ re.sub('[^A-Za-z]+',\"\",word) for word in word_corpus if re.sub('[^A-Za-z]+',\"\",word) != \"\" and len(re.sub('[^A-Za-z]+',\"\",word)) >= 2 ]\n",
      "word_corpus.sort()\n",
      "word_corpus.sort(key=len, reverse=False) # http://stackoverflow.com/questions/4659524/how-to-sort-by-length-of-string-followed-by-alphabetical-order\n",
      "print word_corpus[-10:]"
     ],
     "language": "python",
     "metadata": {},
     "outputs": [
      {
       "output_type": "stream",
       "stream": "stdout",
       "text": [
        "[u'ohmygawdtheresnowaythatiwillnotbechosenforkipwingerscomebackvideo', u'mmmmmmmmmmmmmmmmmmmmmmmmmmmmmmmmmmmmmmmmmmmmmmmmmmmmmmmmmmmmmmmmmmmmmm', u'godblessamericalandthatilovestandbesideherandguideherwithahmmsomethingsomethingfromabove', u'hotdoghamchickenfriedsteakchickenfriedchickenchorizocheeseavocadoonionporkchopeggjalopenoburgerburritosandwich', u'mmmmmmmmmmmmmmmmmmmmmmmmmmmmmmmmmmmmmmmmmmmmmmmmmmmmmmmmmmmmmmmmmmmmmmmmmmmmmmmmmmmmmmmmmmmmmmmmmmmmmmmmmmmmmmmm', u'twaittogobackmmmmmmmmmmmmmmmmmmmmmmmmwowmmmmmmmmmmmmmmmmmmmmmmmmmmmmmmmmmmmmmmmmmmmialsohadtheespressoitwasgreataswellmmmmmmmmmmmmmmmohgawdmmmmmmmmmmmmwowmmmmmmmmmmmmmmmmmmmmmmmmmmmmmmmmmmmmmmmm', u'mmmmmmmmmmmmmmmmmmmmmmmmmmwowmmmmmmmmmmmmmmmmmmmmmmmmmmmmmmmmmmmmmmmmmmmmmmmmwowwowowwowmmmmmmmmmmmmmmmwowsoihavebeenseeingstarreviewsforthisplaceforsolongihadtotryitmmmmmmmmmmmmmmmmmmmwowmmmmmmmmmmmmmmmmmmmmmmmmmmmmmmmmmmmmmmmyfriendkevinhwastryingtoexplainsweetrepublic', u'tliveinphoenixiwouldarrangelayoversherejusttogotosweetrepublicmmmmmmmmmmmmmmmmmmmmmmmmmmmmmmmmmmmmmmmmmmmmihavetogogetapintoftheavacadojalapenonowbyemmmmmmmmmmmmmmmmmmmmmmmmmmmmmmmmmmmmmwowmmmmmmmmmmmmmmmmmmmmmmmmmmmmmmmmmmmmmmmmmmmmmmmmmmmmmmmmmmmmmmmmmmmmmmmmmmmmmmmmmmmmmmmmmmmmmmmmmmmmmmmmmmmmmmmmmmmmmmwow', u'sawesomenessandwhenhegottothepointoftwitteringoneoftheownerstomakesurehenabbedthelastofaflavoriknewihadtofindoutwhateveryoneisobsessingaboutmmmmmmmmmmmmmmmmmmmmmmmmmmmmmmmmmmmmmmmmmmmwowmmmmmmmmmmmmmmmmmmmmmmmmmmmmmmhelenandjanweresonicemmmmmmmmmmmmmmmmmmmmwowmmmmmmmmmmmmmmmmmmmmmmmmwowmmmmmmmmmmmmmmmmmjanrecommendedthecombinationofmayanchocolatewithavacadojalapenoholycrapthatwassomekindofotherworldlyflavormmmmmmmmmmmmmmmmmmmmmmmmwowmmmmmmmmmmmmmmmmmmmmmmmmwecan', u'mmmmmmmmmmmmmmmmmmmmmmmmmmmmmmmmmmmmmmtheroquefortwithmedjooldateswasunbelievablealsommmmmmmmmmmmmmmmmmmmmmmmmmmmmmmmmmmmmmmmmmmwowmmmmmmwhilewewereeatingouricecreamhelenwashandmakingwaffleconesthesepeoplereallytakeprideinthecraftingoftheproductstheysellmmmmmmmmmmmmmmmmmmmmmmmmmmmmmmmmmmmmmmmmmmmmmmmmmmmmmmmmmmmmmmmmmmmmmmmmmmmmmmmmmmmmmmmmmmmmmmmmmmmmmmmmmmmwowmmmmmmthisplaceisafoodiedestinationnottobemissedinanymajorcitymmmmmmmmmmmmmmmmmmmmmmmmmmmmmmmmmmmwowmmmmmmmmmmifididn']\n"
       ]
      }
     ],
     "prompt_number": 228
    },
    {
     "cell_type": "code",
     "collapsed": false,
     "input": [
      "## Takes a very long time to run over complete dataset\n",
      "def get_base_words(word_corpus):\n",
      "    base_words = {}\n",
      "    seen = {}\n",
      "    for check_word in islice(word_corpus,100):\n",
      "        if len(check_word) >= 2 and check_word not in base_words and check_word not in seen and len(check_word) < 34:\n",
      "            pattern = word_var(check_word)\n",
      "            new_vari = [ word for word in word_corpus if re.search(pattern, word ) ]\n",
      "            new_vari.sort(key=len, reverse=False)\n",
      "            if len(new_vari) > 3:\n",
      "                #print new_vari[0]\n",
      "                for word in set(new_vari):\n",
      "                    seen[word] = True\n",
      "                base_words[new_vari[0]] = list(set(new_vari))\n",
      "    \n",
      "    return base_words\n",
      "    ## need to check variations if the variation has been seen before\n",
      "    ## also, start with only correct spellings\n",
      "    \n",
      "%time base_words = get_base_words(word_corpus)"
     ],
     "language": "python",
     "metadata": {},
     "outputs": [
      {
       "output_type": "stream",
       "stream": "stdout",
       "text": [
        "CPU times: user 5.49 s, sys: 0.07 s, total: 5.56 s\n",
        "Wall time: 5.54 s\n"
       ]
      }
     ],
     "prompt_number": 251
    },
    {
     "cell_type": "code",
     "collapsed": false,
     "input": [
      "#print variations[:10]\n",
      "print base_words.keys()"
     ],
     "language": "python",
     "metadata": {},
     "outputs": [
      {
       "output_type": "stream",
       "stream": "stdout",
       "text": [
        "[u'gs', u'gr', u'ge', u'gd', u'gb', u'ga', u'go', u'lb', u'lr', u'df', u'dd', u'de', u'db', u'da', u'ds', u'em', u'eh', u'ek', u'ee', u'ef', u'ea', u'ew', u'ep', u'er', u'rr', u'rd', u'bf', u'ba', u'bb', u'bo', u'bh', u'bw', u'br', u'bs', u'oo', u'om', u'ok', u'oh', u'of', u'od', u'oz', u'ow', u'or', u'co', u'cm', u'cc', u'cf', u'ce', u'cd', u'cr', u'ps', u'pp', u'pt', u'pc', u'pf', u'pe', u'pk', u'po', u'pl', u'pm', u'hr', u'it', u'ho', u'hm', u'ha', u'hd', u'he', u'mg', u'ma', u'mc', u'mb', u'mm', u'ml', u'mo', u'mn', u'mi', u'mh', u'mk', u'ms', u'my', u'aa', u'ad', u'af', u'is', u'am', u'al', u'ap', u'as', u'ar', u'at', u'aw', u'in', u'if', u'no', u'na', u'nc', u'nd', u'ny', u'ft', u'fo', u'kb', u'sq', u'ks', u'si', u'sh', u'so', u'sg', u'sf', u'se']\n"
       ]
      }
     ],
     "prompt_number": 250
    },
    {
     "cell_type": "heading",
     "level": 4,
     "metadata": {},
     "source": [
      "nltk"
     ]
    },
    {
     "cell_type": "code",
     "collapsed": false,
     "input": [
      "#nltk.word_tokenize(raw)\n",
      "porter = nltk.PorterStemmer()\n",
      "\n",
      "\n",
      "tokens = []\n",
      "\n",
      "for row in islice(review_df.iterrows(),1000):\n",
      "    line = re.sub('\\n',\"\",row[1]['text']).split(' ')\n",
      "    tokens.extend(line)\n",
      "    \n",
      "stems = [ porter.stem(t) for t in tokens ]\n",
      "print len(set(tokens))\n",
      "print len(set(stems))\n",
      "\n",
      "print stems[0:100]"
     ],
     "language": "python",
     "metadata": {},
     "outputs": [
      {
       "output_type": "stream",
       "stream": "stdout",
       "text": [
        "19735\n",
        "17551\n",
        "[u'My', u'wife', u'took', u'me', u'here', u'on', u'my', u'birthday', u'for', u'breakfast', u'and', u'it', u'wa', u'excellent.', '', u'The', u'weather', u'wa', u'perfect', u'which', u'made', u'sit', u'outsid', u'overlook', u'their', u'ground', u'an', u'absolut', u'pleasure.', '', u'Our', u'waitress', u'wa', u'excel', u'and', u'our', u'food', u'arriv', u'quickli', u'on', u'the', u'semi-busi', u'Saturday', u'morning.', '', u'It', u'look', u'like', u'the', u'place', u'fill', u'up', u'pretti', u'quickli', u'so', u'the', u'earlier', u'you', u'get', u'here', u'the', u'better.Do', u'yourself', u'a', u'favor', u'and', u'get', u'their', u'Bloodi', u'Mary.', '', u'It', u'wa', u'phenomen', u'and', u'simpli', u'the', u'best', u\"I'v\", u'ever', u'had.', '', u\"I'm\", u'pretti', u'sure', u'they', u'onli', u'use', u'ingredi', u'from', u'their', u'garden', u'and', u'blend', u'them', u'fresh', u'when', u'you', u'order', u'it.']\n"
       ]
      }
     ],
     "prompt_number": 48
    },
    {
     "cell_type": "heading",
     "level": 3,
     "metadata": {},
     "source": [
      "Try scikit-learn NB classifier"
     ]
    },
    {
     "cell_type": "raw",
     "metadata": {},
     "source": [
      "Read in reviews and useful votes from review_df"
     ]
    },
    {
     "cell_type": "code",
     "collapsed": false,
     "input": [
      "# 229907\n",
      "\n",
      "train = {}\n",
      "\n",
      "train['data'] = []\n",
      "train['target'] = []\n",
      "train['target_names'] = ['useful','not']\n",
      "words = []\n",
      "\n",
      "for row in islice(review_df.iterrows(),0,100000):\n",
      "    #print row[1]['text']\n",
      "    #print row[1]['votes']['useful']\n",
      "    \n",
      "    train['data'].append(row[1]['text'])\n",
      "    if row[1]['votes']['useful'] >= 1:\n",
      "        train['target'].append([1])\n",
      "    else:\n",
      "        train['target'].append([0])\n",
      "\n",
      "    words.extend(row[1]['text'].split())\n",
      "    \n",
      "test = {}    \n",
      "\n",
      "test['data'] = []\n",
      "test['target'] = []\n",
      "test['target_names'] = ['useful','not']\n",
      "\n",
      "for row in islice(review_df.iterrows(),100000,100500):\n",
      "    #print row[1]['text']\n",
      "    #print row[1]['votes']['useful']\n",
      "    \n",
      "    test['data'].append(row[1]['text'])\n",
      "    if row[1]['votes']['useful'] >= 1:\n",
      "        test['target'].append([1])\n",
      "    else:\n",
      "        test['target'].append([0])"
     ],
     "language": "python",
     "metadata": {},
     "outputs": [],
     "prompt_number": 129
    },
    {
     "cell_type": "code",
     "collapsed": false,
     "input": [
      "print len(train['data'])\n",
      "print len(train['target'])\n",
      "\n",
      "print len(test['data'])\n",
      "print len(test['target'])"
     ],
     "language": "python",
     "metadata": {},
     "outputs": [
      {
       "output_type": "stream",
       "stream": "stdout",
       "text": [
        "100000\n",
        "100000\n",
        "500\n",
        "500\n"
       ]
      }
     ],
     "prompt_number": 130
    },
    {
     "cell_type": "code",
     "collapsed": false,
     "input": [
      "print len(set(words))"
     ],
     "language": "python",
     "metadata": {},
     "outputs": [
      {
       "output_type": "stream",
       "stream": "stdout",
       "text": [
        "336866\n"
       ]
      }
     ],
     "prompt_number": 106
    },
    {
     "cell_type": "code",
     "collapsed": false,
     "input": [
      "from sklearn.feature_extraction.text import CountVectorizer\n",
      "count_vect = CountVectorizer()\n",
      "X_train_counts = count_vect.fit_transform(train['data'])\n"
     ],
     "language": "python",
     "metadata": {},
     "outputs": [],
     "prompt_number": 118
    },
    {
     "cell_type": "code",
     "collapsed": false,
     "input": [
      "#CountVectorizer?\n",
      "X_train_counts.shape"
     ],
     "language": "python",
     "metadata": {},
     "outputs": [
      {
       "output_type": "pyout",
       "prompt_number": 206,
       "text": [
        "(15000, 19447)"
       ]
      }
     ],
     "prompt_number": 206
    },
    {
     "cell_type": "code",
     "collapsed": false,
     "input": [
      "## What stop words did CountVectorizer remove?\n",
      "stops = list(count_vect.stop_words_)\n",
      "print stops[0:100]"
     ],
     "language": "python",
     "metadata": {},
     "outputs": [
      {
       "output_type": "stream",
       "stream": "stdout",
       "text": [
        "[u'decentfood', u'focachia', u'cussed', u'forvever', u'roopas', u'revelers', u'bigee', u'clotted', u'ua1507', u'roslyn', u'comically', u'localized', u'mongolion', u'frisee', u'buicks', u'kens', u'shuro', u'quadruple', u'colliding', u'sappporo', u'enchelada', u'fatcat', u'demoted', u'lore', u'zipcar', u'lora', u'digit', u'chiccharon', u'stright', u'965', u'saskatchewan', u'uofm', u'bratislava', u'buche', u'replaces', u'crackin', u'haagendaz', u'fur', u'hellava', u'crammin', u'elevations', u'mejico', u'knicker', u'caramels', u'zappos', u'uttering', u'friskier', u'broiler', u'grelichs', u'midorikawa', u'bcbg', u'synergy', u'commenter', u'tabletops', u'virtuosos', u'oooo', u'wooder', u'crotch', u'pcake', u'aegis', u'cheeto', u'monkeyshine', u'frittes', u'sawgrass', u'broadstone', u'sprung', u'chimichuri', u'simile', u'corvette', u'0051', u'utensiles', u'splendiferous', u'sssooooooo', u'sodelicious', u'270', u'272', u'273', u'275', u'sh1t', u'jaaaade', u'sternly', u'earth911', u'schneikies', u'snuggled', u'3secs', u'muey', u'inconsideration', u'unlisted', u'roddy', u'ruthless', u'boogie', u'sooners', u'forgettaboutit', u'fue', u'withfabulous', u'groupie', u'succumb', u'dahi', u'housewarming', u'widget']\n"
       ]
      }
     ],
     "prompt_number": 67
    },
    {
     "cell_type": "raw",
     "metadata": {},
     "source": [
      "Hacking CountVectorizer"
     ]
    },
    {
     "cell_type": "code",
     "collapsed": false,
     "input": [
      "def my_tokenizer(s):\n",
      "    tokens = []\n",
      "    for word in s.split():\n",
      "        if '$' in word:\n",
      "            tokens.append(u'$$')\n",
      "        else:\n",
      "            tokens.append(word)\n",
      "            \n",
      "    #s = [ word for word in s.split() ]\n",
      "    #s = ['$$' for p in prices if re.search('^\\$?', s)]\n",
      "    return tokens\n",
      "\n",
      "def my_preprocessor(s):\n",
      "    #print 'preprocess'\n",
      "    return s\n",
      "\n",
      "def analyze(s):\n",
      "    #print 'analyze'\n",
      "    return s.lower().split()"
     ],
     "language": "python",
     "metadata": {},
     "outputs": [],
     "prompt_number": 14
    },
    {
     "cell_type": "code",
     "collapsed": false,
     "input": [
      "from sklearn.feature_extraction.text import CountVectorizer\n",
      "from sklearn.feature_extraction.text import TfidfTransformer\n",
      "from sklearn.naive_bayes import MultinomialNB"
     ],
     "language": "python",
     "metadata": {},
     "outputs": [],
     "prompt_number": 108
    },
    {
     "cell_type": "code",
     "collapsed": false,
     "input": [
      "count_vect = CountVectorizer()\n",
      "X_train_counts = count_vect.fit_transform(train['data'])\n",
      "#count_vect.build_analyzer()(train['data'][5])"
     ],
     "language": "python",
     "metadata": {},
     "outputs": [],
     "prompt_number": 20
    },
    {
     "cell_type": "code",
     "collapsed": false,
     "input": [
      "X_train_counts.shape"
     ],
     "language": "python",
     "metadata": {},
     "outputs": [
      {
       "output_type": "pyout",
       "prompt_number": 216,
       "text": [
        "(15000, 38768)"
       ]
      }
     ],
     "prompt_number": 216
    },
    {
     "cell_type": "raw",
     "metadata": {},
     "source": [
      "Uses X_train_counts output of CountVectorizer() to make TfIdf matrix"
     ]
    },
    {
     "cell_type": "code",
     "collapsed": false,
     "input": [
      "tfidf_transformer = TfidfTransformer()\n",
      "X_train_tfidf = tfidf_transformer.fit_transform(X_train_counts)\n",
      "X_train_tfidf.shape"
     ],
     "language": "python",
     "metadata": {},
     "outputs": [
      {
       "output_type": "pyout",
       "prompt_number": 119,
       "text": [
        "(117022, 51205)"
       ]
      }
     ],
     "prompt_number": 119
    },
    {
     "cell_type": "code",
     "collapsed": false,
     "input": [
      "text_clf = MultinomialNB().fit(X_train_tfidf, train['target'])"
     ],
     "language": "python",
     "metadata": {},
     "outputs": [],
     "prompt_number": 120
    },
    {
     "cell_type": "raw",
     "metadata": {},
     "source": [
      "scikit-learn Multinomial Naive Bayes \"Pipeline\" creation, then test "
     ]
    },
    {
     "cell_type": "code",
     "collapsed": false,
     "input": [
      "from sklearn.pipeline import Pipeline\n",
      "text_clf = Pipeline([('vect', CountVectorizer()),\\\n",
      "('tfidf', TfidfTransformer()),('clf', MultinomialNB())])\n",
      "_ = text_clf.fit(train['data'], train['target'])"
     ],
     "language": "python",
     "metadata": {},
     "outputs": [],
     "prompt_number": 131
    },
    {
     "cell_type": "code",
     "collapsed": false,
     "input": [
      "import numpy as np\n",
      "docs_test = test['data']\n",
      "predicted = text_clf.predict(docs_test)\n",
      "for i,result in islice(enumerate(predicted),20):\n",
      "    print result, test['target'][i]\n",
      "    if result != test['target'][i] and test['target'][i] == '0':\n",
      "        print result, test['target'][i]\n",
      "np.mean(predicted == test['target'])"
     ],
     "language": "python",
     "metadata": {},
     "outputs": [
      {
       "output_type": "stream",
       "stream": "stdout",
       "text": [
        "1 [1]\n",
        "1 [1]\n",
        "1 [1]\n",
        "1 [1]\n",
        "1 [1]\n",
        "1 [1]\n",
        "1 [1]\n",
        "1 [0]\n",
        "1 [0]\n",
        "1 [1]\n",
        "0 [0]\n",
        "0 [1]\n",
        "1 [1]\n",
        "1 [1]\n",
        "1 [0]\n",
        "1 [1]\n",
        "1 [1]\n",
        "1 [0]\n",
        "1 [0]\n",
        "1 [0]\n"
       ]
      },
      {
       "output_type": "pyout",
       "prompt_number": 134,
       "text": [
        "0.59235199999999999"
       ]
      }
     ],
     "prompt_number": 134
    },
    {
     "cell_type": "code",
     "collapsed": false,
     "input": [
      "class_labels = [ str(i) for i in train['target'] ]\n",
      "test_labels = [ str(i) for i in test['target'] ]"
     ],
     "language": "python",
     "metadata": {},
     "outputs": [],
     "prompt_number": 38
    },
    {
     "cell_type": "code",
     "collapsed": false,
     "input": [
      "from bayes import NaiveBayes"
     ],
     "language": "python",
     "metadata": {},
     "outputs": [],
     "prompt_number": 59
    },
    {
     "cell_type": "code",
     "collapsed": false,
     "input": [
      "from collections import defaultdict\n",
      "\n",
      "clfr = NaiveBayes(train['data'],class_labels)\n",
      "\n",
      "matches = defaultdict(Counter)\n",
      "for i,item in enumerate(test['data']):\n",
      "    label = clfr.label_new(item)\n",
      "    #print(label,correct_labels[i])\n",
      "    if label[0][1] == test_labels[i]:\n",
      "        matches['labeled'][test_labels[i]] += 1\n",
      "    else:\n",
      "        matches['not-labeled'][test_labels[i]] += 1\n",
      "    matches['total'][test_labels[i]] += 1\n",
      "\n",
      "print matches"
     ],
     "language": "python",
     "metadata": {},
     "outputs": [
      {
       "output_type": "stream",
       "stream": "stdout",
       "text": [
        "{'[0]': 0.93674, '[1]': 0.06326}\n",
        "Counter({'[0]': 20709, '[1]': 1831})"
       ]
      },
      {
       "output_type": "stream",
       "stream": "stdout",
       "text": [
        "\n",
        "139004"
       ]
      },
      {
       "output_type": "stream",
       "stream": "stdout",
       "text": [
        "\n",
        "defaultdict(<class 'collections.Counter'>, {'labeled': Counter({'[0]': 426, '[1]': 3}), 'total': Counter({'[0]': 471, '[1]': 29}), 'not-labeled': Counter({'[0]': 45, '[1]': 26})})"
       ]
      },
      {
       "output_type": "stream",
       "stream": "stdout",
       "text": [
        "\n"
       ]
      }
     ],
     "prompt_number": 60
    },
    {
     "cell_type": "raw",
     "metadata": {},
     "source": [
      "Training on 100,000 documents\n",
      "1. remove \\n , . ! ? ( ) vocab = 144890\n",
      "1. with $ replacement vocab = 139004, without vocab = "
     ]
    },
    {
     "cell_type": "code",
     "collapsed": false,
     "input": [
      "429.0/500"
     ],
     "language": "python",
     "metadata": {},
     "outputs": [
      {
       "output_type": "pyout",
       "prompt_number": 47,
       "text": [
        "0.858"
       ]
      }
     ],
     "prompt_number": 47
    },
    {
     "cell_type": "raw",
     "metadata": {},
     "source": [
      "Create Training Data Per Category"
     ]
    },
    {
     "cell_type": "code",
     "collapsed": false,
     "input": [
      "# 229907\n",
      "from collections import defaultdict\n",
      "\n",
      "train_data_struct = { 'data': [], 'target': [], 'target_names': ['useful','not'] }\n",
      "\n",
      "cat_datas = defaultdict(defaultdict)\n",
      "for row in islice(review_df.iterrows(),0,50000):\n",
      "    cats = row[1]['categories']\n",
      "    for cat in cats:\n",
      "        if 'data' not in cat_datas[cat]:\n",
      "            cat_datas[cat] = train_data_struct\n",
      "        cat_datas[cat]['data'].append(row[1]['text'])\n",
      "        if row[1]['votes']['useful'] > 3:\n",
      "            cat_datas[cat]['target'].append([0])\n",
      "        else:\n",
      "            cat_datas[cat]['target'].append([1])\n",
      "            \n",
      "cat_datas_test = defaultdict(defaultdict)\n",
      "for row in islice(review_df.iterrows(),50000,55000):\n",
      "    cats = row[1]['categories']\n",
      "    for cat in cats:\n",
      "        if 'data' not in cat_datas_test[cat]:\n",
      "            cat_datas_test[cat] = train_data_struct\n",
      "        cat_datas_test[cat]['data'].append(row[1]['text'])\n",
      "        if row[1]['votes']['useful'] > 3:\n",
      "            cat_datas_test[cat]['target'].append([0])\n",
      "        else:\n",
      "            cat_datas_test[cat]['target'].append([1])"
     ],
     "language": "python",
     "metadata": {},
     "outputs": [],
     "prompt_number": "*"
    },
    {
     "cell_type": "code",
     "collapsed": false,
     "input": [
      "print len(cat_datas.keys())"
     ],
     "language": "python",
     "metadata": {},
     "outputs": [],
     "prompt_number": "*"
    },
    {
     "cell_type": "code",
     "collapsed": false,
     "input": [
      "clfrs = {}\n",
      "for cat,value in cat_datas.iteritems():\n",
      "    text_clf = Pipeline([('vect', CountVectorizer()),('tfidf', TfidfTransformer()),('clf', MultinomialNB())])\n",
      "    _ = text_clf.fit(value['data'], value['target'])\n",
      "    clfrs[cat] = text_clf"
     ],
     "language": "python",
     "metadata": {},
     "outputs": [],
     "prompt_number": "*"
    },
    {
     "cell_type": "code",
     "collapsed": false,
     "input": [
      "import numpy as np\n",
      "for cat,value in cat_datas_test.iteritems():\n",
      "    \n",
      "    docs_test = value['data']\n",
      "    text_clf = clfrs[cat]\n",
      "    predicted = text_clf.predict(docs_test)\n",
      "    print cat, np.mean(predicted == value['target'])"
     ],
     "language": "python",
     "metadata": {},
     "outputs": []
    }
   ],
   "metadata": {}
  }
 ]
}