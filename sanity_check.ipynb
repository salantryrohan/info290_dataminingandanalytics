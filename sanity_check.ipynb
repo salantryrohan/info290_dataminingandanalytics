{
 "metadata": {
  "name": "sanity_check"
 },
 "nbformat": 3,
 "nbformat_minor": 0,
 "worksheets": [
  {
   "cells": [
    {
     "cell_type": "code",
     "collapsed": false,
     "input": [
      "import os\n",
      "import json\n",
      "from itertools import islice\n",
      "from collections import Counter, defaultdict\n",
      "\n",
      "import pandas as pd\n",
      "import numpy as np\n",
      "\n",
      "import re\n",
      "import nltk\n",
      "\n",
      "# sklean\n",
      "from sklearn.feature_extraction.text import CountVectorizer\n",
      "from sklearn.feature_extraction.text import TfidfTransformer\n",
      "from sklearn.naive_bayes import MultinomialNB\n",
      "from sklearn.pipeline import Pipeline\n",
      "\n",
      "# our bayes\n",
      "from bayes import NaiveBayes\n",
      "\n",
      "# news group data\n",
      "from sklearn.datasets import fetch_20newsgroups\n",
      "\n",
      "print os.getcwd()"
     ],
     "language": "python",
     "metadata": {},
     "outputs": [
      {
       "output_type": "stream",
       "stream": "stdout",
       "text": [
        "/Users/ajrenold/Dropbox/iSchool/2013Spring/DataMining/yelp_project\n"
       ]
      }
     ],
     "prompt_number": 1
    },
    {
     "cell_type": "code",
     "collapsed": false,
     "input": [
      "\"\"\"['alt.atheism',\n",
      " 'comp.graphics',\n",
      " 'comp.os.ms-windows.misc',\n",
      " 'comp.sys.ibm.pc.hardware',\n",
      " 'comp.sys.mac.hardware',\n",
      " 'comp.windows.x',\n",
      " 'misc.forsale',\n",
      " 'rec.autos',\n",
      " 'rec.motorcycles',\n",
      " 'rec.sport.baseball',\n",
      " 'rec.sport.hockey',\n",
      " 'sci.crypt',\n",
      " 'sci.electronics',\n",
      " 'sci.med',\n",
      " 'sci.space',\n",
      " 'soc.religion.christian',\n",
      " 'talk.politics.guns',\n",
      " 'talk.politics.mideast',\n",
      " 'talk.politics.misc',\n",
      " 'talk.religion.misc']\"\"\"\n",
      "categories = ['alt.atheism', 'soc.religion.christian','comp.graphics', 'sci.med']\n",
      "twenty_train = fetch_20newsgroups(subset='train', categories=categories, shuffle=True, random_state=42)"
     ],
     "language": "python",
     "metadata": {},
     "outputs": [],
     "prompt_number": 2
    },
    {
     "cell_type": "code",
     "collapsed": false,
     "input": [
      "print twenty_train.target_names\n",
      "print len(twenty_train.data)\n",
      "print\n",
      "print \"\\n\".join(twenty_train.data[0].split(\"\\n\")[:3])\n",
      "print\n",
      "print twenty_train.target_names[twenty_train.target[0]]\n",
      "print twenty_train.target[:10]\n",
      "print set(twenty_train.target)"
     ],
     "language": "python",
     "metadata": {},
     "outputs": [
      {
       "output_type": "stream",
       "stream": "stdout",
       "text": [
        "['alt.atheism', 'comp.graphics', 'sci.med', 'soc.religion.christian']\n",
        "2257\n",
        "\n",
        "From: sd345@city.ac.uk (Michael Collier)\n",
        "Subject: Converting images to HP LaserJet III?\n",
        "Nntp-Posting-Host: hampton\n",
        "\n",
        "comp.graphics\n",
        "[1 1 3 3 3 3 3 2 2 2]\n",
        "set([0, 1, 2, 3])\n"
       ]
      }
     ],
     "prompt_number": 3
    },
    {
     "cell_type": "code",
     "collapsed": false,
     "input": [
      "text_clf = Pipeline([('vect', CountVectorizer()),('tfidf', TfidfTransformer()),('clf', MultinomialNB())])"
     ],
     "language": "python",
     "metadata": {},
     "outputs": [],
     "prompt_number": 4
    },
    {
     "cell_type": "code",
     "collapsed": false,
     "input": [
      "%time _ = text_clf.fit(twenty_train.data, twenty_train.target)"
     ],
     "language": "python",
     "metadata": {},
     "outputs": [
      {
       "output_type": "stream",
       "stream": "stdout",
       "text": [
        "CPU times: user 1.97 s, sys: 0.06 s, total: 2.03 s\n",
        "Wall time: 2.03 s\n"
       ]
      }
     ],
     "prompt_number": 5
    },
    {
     "cell_type": "code",
     "collapsed": false,
     "input": [
      "twenty_test = fetch_20newsgroups(subset='test', categories=categories, shuffle=True, random_state=42)\n",
      "docs_test = twenty_test.data\n",
      "predicted = text_clf.predict(docs_test)\n",
      "np.mean(predicted == twenty_test.target)"
     ],
     "language": "python",
     "metadata": {},
     "outputs": [
      {
       "output_type": "pyout",
       "prompt_number": 6,
       "text": [
        "0.85952063914780297"
       ]
      }
     ],
     "prompt_number": 6
    },
    {
     "cell_type": "code",
     "collapsed": false,
     "input": [
      "predicted[0:10]"
     ],
     "language": "python",
     "metadata": {},
     "outputs": [
      {
       "output_type": "pyout",
       "prompt_number": 7,
       "text": [
        "array([2, 2, 2, 0, 3, 0, 1, 3, 1, 2])"
       ]
      }
     ],
     "prompt_number": 7
    },
    {
     "cell_type": "code",
     "collapsed": false,
     "input": [
      "matches = defaultdict(Counter)\n",
      "data_labels = []\n",
      "for i,item in islice(enumerate(twenty_test.data),None):\n",
      "    label = text_clf.predict([item])\n",
      "    #print label, twenty_test.target[i]\n",
      "    data_labels.append(int(label))\n",
      "    if label == twenty_test.target[i]:\n",
      "        matches['labeled'][str(twenty_test.target[i])] += 1\n",
      "    else:\n",
      "        matches['not-labeled'][str(twenty_test.target[i])] += 1\n",
      "    matches['total'][str(twenty_test.target[i])] += 1"
     ],
     "language": "python",
     "metadata": {},
     "outputs": [],
     "prompt_number": 8
    },
    {
     "cell_type": "code",
     "collapsed": false,
     "input": [
      "\"\"\"print 'class 19 percent correct', (float(matches['labeled']['19']) / matches['total']['19'])\n",
      "print 'class 18 percent correct', (float(matches['labeled']['18']) / matches['total']['18'])\n",
      "print 'class 17 percent correct', (float(matches['labeled']['17']) / matches['total']['17'] )\n",
      "print 'class 16 percent correct', (float(matches['labeled']['16']) / matches['total']['16'] )\n",
      "print 'class 15 percent correct', (float(matches['labeled']['15']) / matches['total']['15'])\n",
      "print 'class 14 percent correct', (float(matches['labeled']['14']) / matches['total']['14'])\n",
      "print 'class 13 percent correct', (float(matches['labeled']['13']) / matches['total']['13'] )\n",
      "print 'class 12 percent correct', (float(matches['labeled']['12']) / matches['total']['12'] )\n",
      "print 'class 11 percent correct', (float(matches['labeled']['11']) / matches['total']['11'])\n",
      "print 'class 10 percent correct', (float(matches['labeled']['10']) / matches['total']['10'])\n",
      "print 'class 9 percent correct', (float(matches['labeled']['9']) / matches['total']['9'] )\n",
      "print 'class 8 percent correct', (float(matches['labeled']['8']) / matches['total']['8'] )\n",
      "print 'class 7 percent correct', (float(matches['labeled']['7']) / matches['total']['7'])\n",
      "print 'class 6 percent correct', (float(matches['labeled']['6']) / matches['total']['6'])\n",
      "print 'class 5 percent correct', (float(matches['labeled']['5']) / matches['total']['5'] )\n",
      "print 'class 4 percent correct', (float(matches['labeled']['4']) / matches['total']['4'] ) \"\"\"\n",
      "print 'class 3 percent correct', (float(matches['labeled']['3']) / matches['total']['3'])\n",
      "print 'class 2 percent correct', (float(matches['labeled']['2']) / matches['total']['2'])\n",
      "print 'class 1 percent correct', (float(matches['labeled']['1']) / matches['total']['1'] )\n",
      "print 'class 0 percent correct', (float(matches['labeled']['0']) / matches['total']['0'] )\n",
      "np.mean(data_labels == twenty_test.target)"
     ],
     "language": "python",
     "metadata": {},
     "outputs": [
      {
       "output_type": "stream",
       "stream": "stdout",
       "text": [
        "class 3 percent correct 0.979899497487\n",
        "class 2 percent correct 0.838383838384\n",
        "class 1 percent correct 0.925449871465\n",
        "class 0 percent correct 0.655172413793\n"
       ]
      },
      {
       "output_type": "pyout",
       "prompt_number": 9,
       "text": [
        "0.85952063914780297"
       ]
      }
     ],
     "prompt_number": 9
    },
    {
     "cell_type": "code",
     "collapsed": false,
     "input": [
      "target_str = [ str(i) for i in twenty_train.target]\n",
      "% time clfr = NaiveBayes(twenty_train.data, target_str)"
     ],
     "language": "python",
     "metadata": {},
     "outputs": [
      {
       "output_type": "stream",
       "stream": "stdout",
       "text": [
        "{'1': 0.25875055383252105, '0': 0.21267168808152415, '3': 0.2653965440850687, '2': 0.2631812140008861}\n",
        "43378"
       ]
      },
      {
       "output_type": "stream",
       "stream": "stdout",
       "text": [
        "\n",
        "CPU times: user 3.03 s, sys: 0.05 s, total: 3.08 s"
       ]
      },
      {
       "output_type": "stream",
       "stream": "stdout",
       "text": [
        "\n",
        "Wall time: 3.07 s\n"
       ]
      }
     ],
     "prompt_number": 10
    },
    {
     "cell_type": "code",
     "collapsed": false,
     "input": [
      "test_str = [ str(i) for i in twenty_test.target ]\n",
      "data_labels = []\n",
      "matches = defaultdict(Counter)\n",
      "for i,item in enumerate(twenty_test.data):\n",
      "    label = clfr.label_new(item)\n",
      "    data_labels.append(int(label[0][1]))\n",
      "    #print(label,correct_labels[i])\n",
      "    if label[0][1] == test_str[i]:\n",
      "        matches['labeled'][test_str[i]] += 1\n",
      "    else:\n",
      "        matches['not-labeled'][test_str[i]] += 1\n",
      "    matches['total'][test_str[i]] += 1"
     ],
     "language": "python",
     "metadata": {},
     "outputs": [],
     "prompt_number": 11
    },
    {
     "cell_type": "code",
     "collapsed": false,
     "input": [
      "\"\"\"print 'class 19 percent correct', (float(matches['labeled']['19']) / matches['total']['19'])\n",
      "print 'class 18 percent correct', (float(matches['labeled']['18']) / matches['total']['18'])\n",
      "print 'class 17 percent correct', (float(matches['labeled']['17']) / matches['total']['17'] )\n",
      "print 'class 16 percent correct', (float(matches['labeled']['16']) / matches['total']['16'] )\n",
      "print 'class 15 percent correct', (float(matches['labeled']['15']) / matches['total']['15'])\n",
      "print 'class 14 percent correct', (float(matches['labeled']['14']) / matches['total']['14'])\n",
      "print 'class 13 percent correct', (float(matches['labeled']['13']) / matches['total']['13'] )\n",
      "print 'class 12 percent correct', (float(matches['labeled']['12']) / matches['total']['12'] )\n",
      "print 'class 11 percent correct', (float(matches['labeled']['11']) / matches['total']['11'])\n",
      "print 'class 10 percent correct', (float(matches['labeled']['10']) / matches['total']['10'])\n",
      "print 'class 9 percent correct', (float(matches['labeled']['9']) / matches['total']['9'] )\n",
      "print 'class 8 percent correct', (float(matches['labeled']['8']) / matches['total']['8'] )\n",
      "print 'class 7 percent correct', (float(matches['labeled']['7']) / matches['total']['7'])\n",
      "print 'class 6 percent correct', (float(matches['labeled']['6']) / matches['total']['6'])\n",
      "print 'class 5 percent correct', (float(matches['labeled']['5']) / matches['total']['5'] )\n",
      "print 'class 4 percent correct', (float(matches['labeled']['4']) / matches['total']['4'] ) \"\"\"\n",
      "print 'class 3 percent correct', (float(matches['labeled']['3']) / matches['total']['3'])\n",
      "print 'class 2 percent correct', (float(matches['labeled']['2']) / matches['total']['2'])\n",
      "print 'class 1 percent correct', (float(matches['labeled']['1']) / matches['total']['1'] )\n",
      "print 'class 0 percent correct', (float(matches['labeled']['0']) / matches['total']['0'] )\n",
      "np.mean(data_labels == twenty_test.target)"
     ],
     "language": "python",
     "metadata": {},
     "outputs": [
      {
       "output_type": "stream",
       "stream": "stdout",
       "text": [
        "class 3 percent correct 0.952261306533\n",
        "class 2 percent correct 0.909090909091\n",
        "class 1 percent correct 0.961439588689\n",
        "class 0 percent correct 0.915360501567\n"
       ]
      },
      {
       "output_type": "pyout",
       "prompt_number": 12,
       "text": [
        "0.9354194407456724"
       ]
      }
     ],
     "prompt_number": 12
    },
    {
     "cell_type": "code",
     "collapsed": false,
     "input": [],
     "language": "python",
     "metadata": {},
     "outputs": [],
     "prompt_number": 12
    }
   ],
   "metadata": {}
  }
 ]
}